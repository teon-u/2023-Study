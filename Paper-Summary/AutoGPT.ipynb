{
 "cells": [
  {
   "cell_type": "code",
   "execution_count": 154,
   "metadata": {},
   "outputs": [],
   "source": [
    "from selenium.webdriver.support import expected_conditions as EC\n",
    "from selenium import webdriver\n",
    "from selenium.webdriver.common.by import By\n",
    "from selenium.webdriver.support.ui import WebDriverWait\n",
    "from selenium.webdriver.chrome.options import Options\n",
    "import undetected_chromedriver as uc\n",
    "from selenium.webdriver.common.keys import Keys\n",
    "import time"
   ]
  },
  {
   "cell_type": "code",
   "execution_count": 193,
   "metadata": {},
   "outputs": [],
   "source": [
    "# Driver Setup\n",
    "def driver_open(url):\n",
    "    '''\n",
    "    Url을 받아 드라이버를 열어주는 함수\n",
    "\n",
    "    Input\n",
    "     - url : 주소 문자열\n",
    "\n",
    "    Return\n",
    "     - driver : 웹드라이버 객체\n",
    "    '''\n",
    "    # 1. 웹드라이버 생성\n",
    "    driver = uc.Chrome()\n",
    "\n",
    "    # 2. URL 접속\n",
    "    driver.get(url)\n",
    "\n",
    "    # 3. 드라이버 화면 최대화\n",
    "    driver.maximize_window()\n",
    "\n",
    "    # 4. 로드 대기\n",
    "    driver.implicitly_wait(5)\n",
    "\n",
    "    return driver\n",
    "\n",
    "\n",
    "def driver_return_button_by_text(text):\n",
    "    '''\n",
    "    텍스트에 따라 버튼객체를 반환해주는 함수\n",
    "\n",
    "    Input\n",
    "     - text : 찾을 버튼의 텍스트 문자열\n",
    "    '''\n",
    "\n",
    "    try:\n",
    "        #wait = WebDriverWait(driver, 5)\n",
    "        #wait.until(EC.element_to_be_clickable((By.TAG_NAME,\"button\")))\n",
    "        #wait.until(EC.presence_of_element_located((By.ID,\"topTitle\")))\n",
    "\n",
    "        button_list = driver.find_elements(By.TAG_NAME,\"button\")\n",
    "        button_text_list = [x.text for x in button_list]\n",
    "        button_google = button_text_list.index(text)\n",
    "        \n",
    "        if \n",
    "\n",
    "\n",
    "        return button_list[button_google]\n",
    "    except:\n",
    "        time.sleep(1)\n",
    "        driver_return_button_by_text(text)\n",
    "\n",
    "\n",
    "\n",
    "def driver_google_login(id,pw):\n",
    "    '''\n",
    "    구글 로그인 해주는 함수\n",
    "\n",
    "    Input\n",
    "     - id : 아이디\n",
    "     - pw : 비밀번호\n",
    "    '''\n",
    "    driver.implicitly_wait(5)\n",
    "    # 아이디 입력\n",
    "    driver.find_element(By.TAG_NAME,\"input\").send_keys(id)\n",
    "    # '다음' 버튼 선택\n",
    "    driver_return_button_by_text(\"다음\").click()\n",
    "    time.sleep(5)\n",
    "\n",
    "    # 비밀번호 입력    \n",
    "    input_list = driver.find_elements(By.TAG_NAME,\"input\")\n",
    "    input_type_list = [x.get_attribute(\"type\") for x in input_list]\n",
    "    input_next = input_type_list.index('password')\n",
    "    input_list[input_next].send_keys(pw)\n",
    "    # '다음' 버튼 선택\n",
    "    driver_return_button_by_text(\"다음\").click()\n",
    "    driver.implicitly_wait(5)\n",
    "    # 로그인 인증 대기\n",
    "    input(\"Press [ENTER] after authorization\")# 인증 대기"
   ]
  },
  {
   "cell_type": "code",
   "execution_count": 195,
   "metadata": {},
   "outputs": [
    {
     "name": "stdout",
     "output_type": "stream",
     "text": [
      "Bruh\n"
     ]
    },
    {
     "ename": "AttributeError",
     "evalue": "'NoneType' object has no attribute 'click'",
     "output_type": "error",
     "traceback": [
      "\u001b[1;31m---------------------------------------------------------------------------\u001b[0m",
      "\u001b[1;31mAttributeError\u001b[0m                            Traceback (most recent call last)",
      "Cell \u001b[1;32mIn[195], line 3\u001b[0m\n\u001b[0;32m      1\u001b[0m driver \u001b[39m=\u001b[39m driver_open(\u001b[39m\"\u001b[39m\u001b[39mhttps://chat.openai.com/\u001b[39m\u001b[39m\"\u001b[39m)\n\u001b[0;32m      2\u001b[0m driver_return_button_by_text(\u001b[39m\"\u001b[39m\u001b[39mLog in\u001b[39m\u001b[39m\"\u001b[39m)\u001b[39m.\u001b[39mclick()\n\u001b[1;32m----> 3\u001b[0m driver_return_button_by_text(\u001b[39m\"\u001b[39;49m\u001b[39mContinue with Google\u001b[39;49m\u001b[39m\"\u001b[39;49m)\u001b[39m.\u001b[39;49mclick()\n\u001b[0;32m      4\u001b[0m driver_google_login(\u001b[39m\"\u001b[39m\u001b[39mdbxowns120@gmail.com\u001b[39m\u001b[39m\"\u001b[39m,\u001b[39m\"\u001b[39m\u001b[39mLet me be the president!\u001b[39m\u001b[39m\"\u001b[39m)\n",
      "\u001b[1;31mAttributeError\u001b[0m: 'NoneType' object has no attribute 'click'"
     ]
    }
   ],
   "source": [
    "driver = driver_open(\"https://chat.openai.com/\")\n",
    "driver_return_button_by_text(\"Log in\").click()\n",
    "driver_return_button_by_text(\"Continue with Google\").click()\n",
    "driver_google_login(\"dbxowns120@gmail.com\",\"Let me be the president!\")"
   ]
  },
  {
   "cell_type": "code",
   "execution_count": 194,
   "metadata": {},
   "outputs": [],
   "source": [
    "driver_return_button_by_text(\"Continue with Google\").click()"
   ]
  },
  {
   "cell_type": "code",
   "execution_count": 174,
   "metadata": {},
   "outputs": [],
   "source": []
  },
  {
   "cell_type": "code",
   "execution_count": 175,
   "metadata": {},
   "outputs": [],
   "source": []
  },
  {
   "cell_type": "code",
   "execution_count": 176,
   "metadata": {},
   "outputs": [],
   "source": []
  },
  {
   "cell_type": "code",
   "execution_count": 130,
   "metadata": {},
   "outputs": [
    {
     "ename": "IndexError",
     "evalue": "list index out of range",
     "output_type": "error",
     "traceback": [
      "\u001b[1;31m---------------------------------------------------------------------------\u001b[0m",
      "\u001b[1;31mIndexError\u001b[0m                                Traceback (most recent call last)",
      "Cell \u001b[1;32mIn[130], line 14\u001b[0m\n\u001b[0;32m     12\u001b[0m \u001b[39m# 4. 로그인 페이지 선택\u001b[39;00m\n\u001b[0;32m     13\u001b[0m button_list \u001b[39m=\u001b[39m driver\u001b[39m.\u001b[39mfind_elements(By\u001b[39m.\u001b[39mTAG_NAME,\u001b[39m\"\u001b[39m\u001b[39mbutton\u001b[39m\u001b[39m\"\u001b[39m)\n\u001b[1;32m---> 14\u001b[0m button_list[\u001b[39m0\u001b[39;49m]\u001b[39m.\u001b[39mclick()\n\u001b[0;32m     16\u001b[0m \u001b[39m# 5. 구글 로그인 선택\u001b[39;00m\n\u001b[0;32m     17\u001b[0m button_list \u001b[39m=\u001b[39m driver\u001b[39m.\u001b[39mfind_elements(By\u001b[39m.\u001b[39mTAG_NAME,\u001b[39m\"\u001b[39m\u001b[39mbutton\u001b[39m\u001b[39m\"\u001b[39m)\n",
      "\u001b[1;31mIndexError\u001b[0m: list index out of range"
     ]
    }
   ],
   "source": [
    "\n",
    "# 4. 로그인 페이지 선택\n",
    "button_list = driver.find_elements(By.TAG_NAME,\"button\")\n",
    "button_list[0].click()\n",
    "\n",
    "# 5. 구글 로그인 선택\n",
    "button_list = driver.find_elements(By.TAG_NAME,\"button\")\n",
    "button_text_list = [x.text for x in button_list]\n",
    "button_google = button_text_list.index('Continue with Google')\n",
    "button_list[button_google].click()\n",
    "\n",
    "# 6. 구글 아이디 입력\n",
    "driver.find_element(By.TAG_NAME,\"input\").send_keys(\"dbxowns120@gmail.com\")\n",
    "\n",
    "# 7. '다음' 버튼 선택\n",
    "button_list = driver.find_elements(By.TAG_NAME,\"button\")\n",
    "button_text_list = [x.text for x in button_list]\n",
    "button_next = button_text_list.index('다음')\n",
    "button_list[button_next].click()\n",
    "\n",
    "# 8. 구글 패스워드 입력\n",
    "input_list = driver.find_elements(By.TAG_NAME,\"input\")\n",
    "input_type_list = [x.get_attribute(\"type\") for x in input_list]\n",
    "input_next = input_type_list.index('password')\n",
    "input_list[input_next].send_keys(\"Let me be the president!\")\n",
    "\n",
    "# 9. '다음' 버튼 선택 및 인증대기\n",
    "button_list = driver.find_elements(By.TAG_NAME,\"button\")\n",
    "button_text_list = [x.text for x in button_list]\n",
    "button_next = button_text_list.index('다음')\n",
    "button_list[button_next].click()\n",
    "input(\"Press [ENTER] after authorization\")# 인증 대기\n",
    "\n",
    "# 10. 팝업 넘기기\n",
    "button_list = driver.find_elements(By.TAG_NAME,\"button\")\n",
    "button_text_list = [x.text for x in button_list]\n",
    "pass_text = \"Okay, let’s go\"\n",
    "if pass_text in button_text_list:\n",
    "    button_next = button_text_list.index(pass_text)\n",
    "    button_list[button_next].click()\n",
    "\n",
    "# 11. 질문 Text 입력\n",
    "text_input = driver.find_element(By.TAG_NAME,\"textarea\")\n",
    "text_input.send_keys(\"배고파. 저녁메뉴 추천좀\")\n",
    "\n",
    "# 12. 질문 전송 버튼 선택\n",
    "button_list = driver.find_elements(By.TAG_NAME,\"button\")\n",
    "button_list[len(button_list)].click()"
   ]
  },
  {
   "cell_type": "code",
   "execution_count": null,
   "metadata": {},
   "outputs": [],
   "source": [
    "open_webdriver(\"https://chat.openai.com/\")"
   ]
  }
 ],
 "metadata": {
  "kernelspec": {
   "display_name": "gpt",
   "language": "python",
   "name": "python3"
  },
  "language_info": {
   "codemirror_mode": {
    "name": "ipython",
    "version": 3
   },
   "file_extension": ".py",
   "mimetype": "text/x-python",
   "name": "python",
   "nbconvert_exporter": "python",
   "pygments_lexer": "ipython3",
   "version": "3.8.17"
  },
  "orig_nbformat": 4
 },
 "nbformat": 4,
 "nbformat_minor": 2
}
